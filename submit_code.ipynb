{
 "cells": [
  {
   "cell_type": "code",
   "execution_count": 1,
   "id": "42182c78",
   "metadata": {},
   "outputs": [
    {
     "name": "stdout",
     "output_type": "stream",
     "text": [
      "yo\n",
      "taille des données:\n",
      "X: (1837079, 25)\n",
      "Y: (1837079, 2)\n",
      "test: (1837080, 25)\n",
      "[[      0      11]\n",
      " [      1      11]\n",
      " [      2      11]\n",
      " ...\n",
      " [1837076      12]\n",
      " [1837077      11]\n",
      " [1837078      11]]\n",
      "[[2 3 6 ... 2 6 4]\n",
      " [3 1 1 ... 5 6 4]\n",
      " [2 4 6 ... 2 3 4]\n",
      " ...\n",
      " [1 6 3 ... 1 3 1]\n",
      " [1 2 4 ... 6 4 3]\n",
      " [4 5 1 ... 6 2 4]]\n"
     ]
    }
   ],
   "source": [
    "import pandas as pd\n",
    "import numpy as np\n",
    "import matplotlib.pyplot as plt\n",
    "\n",
    "print(\"yo\")\n",
    "df = pd.read_csv(\"train_input_MaPtRPJ.csv\")\n",
    "X = df.to_numpy()\n",
    "df = pd.read_csv(\"train_output_xd4VV9Q.csv\")\n",
    "y = df.to_numpy()\n",
    "print(\"taille des données:\")\n",
    "print(\"X:\", X.shape)\n",
    "print(\"Y:\", y.shape)\n",
    "\n",
    "df = pd.read_csv(\"test_input_5c0imze.csv\")\n",
    "Xtest = df.to_numpy()\n",
    "print(\"test:\", Xtest.shape)\n",
    "print(y)\n",
    "Xef=X[:,1:7]\n",
    "Xef=np.hstack((Xef,X[:,8:15]))\n",
    "Xef=np.hstack((Xef,X[:,16:23]))\n",
    "Xef=np.hstack((Xef,X[:,24:25]))\n",
    "Xid=X[:,0]\n",
    "\n",
    "Xeftest=Xtest[:,1:7]\n",
    "Xeftest=np.hstack((Xeftest,Xtest[:,8:15]))\n",
    "Xeftest=np.hstack((Xeftest,Xtest[:,16:23]))\n",
    "Xeftest=np.hstack((Xeftest,Xtest[:,24:25]))\n",
    "Xidtest=Xtest[:,0]\n",
    "print(Xeftest)"
   ]
  },
  {
   "cell_type": "code",
   "execution_count": 2,
   "id": "ced036fb",
   "metadata": {},
   "outputs": [
    {
     "name": "stdout",
     "output_type": "stream",
     "text": [
      "[1837079 1837080 1837081 ... 3674156 3674157 3674158]\n"
     ]
    }
   ],
   "source": [
    "import pandas as pd\n",
    "import numpy as np\n",
    "\n",
    "from sklearn import neighbors, linear_model\n",
    "\n",
    "\n",
    "import matplotlib.pyplot as plt\n",
    "from sklearn.neighbors import KNeighborsClassifier\n",
    "from sklearn.naive_bayes import GaussianNB\n",
    "from sklearn.linear_model import LogisticRegression\n",
    "from sklearn.metrics import confusion_matrix\n",
    "from matplotlib.colors import ListedColormap\n",
    "Xwd=Xef[0:700000,:]\n",
    "ywd=y[0:700000,1]\n",
    "Xwdid=Xid[0:700000]\n",
    "ywdid=y[0:700000,0]\n",
    "X_test=Xef[1000001:1005000]\n",
    "y_test=y[1000001:1005000,1]\n",
    "test_id=Xidtest\n",
    "print(test_id)"
   ]
  },
  {
   "cell_type": "code",
   "execution_count": 3,
   "id": "bf9d91f0",
   "metadata": {},
   "outputs": [],
   "source": [
    "knn = neighbors.KNeighborsClassifier(metric='hamming')\n",
    "knn_model = knn.fit(Xwd, ywd)"
   ]
  },
  {
   "cell_type": "code",
   "execution_count": 4,
   "id": "516042f7",
   "metadata": {},
   "outputs": [],
   "source": [
    "ypred=knn_model.predict(X_test)\n",
    "\n"
   ]
  },
  {
   "cell_type": "code",
   "execution_count": 5,
   "id": "79692b90",
   "metadata": {},
   "outputs": [],
   "source": [
    "Xpaire=[]\n",
    "Ximpaire=[]\n",
    "ypaire=[]\n",
    "yimpaire=[]\n",
    "nbpaire=0\n",
    "nbimpaire=0\n",
    "for i in range(700000):\n",
    "    if(ywd[i]==1 or ywd[i]==3 or ywd[i]==5 or ywd[i]==7 or ywd[i]==9 or ywd[i]==11 or ywd[i]==13):\n",
    "        yimpaire=np.hstack((yimpaire,ywd[i]))\n",
    "        Ximpaire=np.hstack((Ximpaire,Xwd[i]))\n",
    "        nbimpaire=nbimpaire+1\n",
    "    else:\n",
    "        ypaire=np.hstack((ypaire,ywd[i]))\n",
    "        Xpaire=np.hstack((Xpaire,Xwd[i]))\n",
    "        nbpaire=nbpaire+1"
   ]
  },
  {
   "cell_type": "code",
   "execution_count": 6,
   "id": "441f9e71",
   "metadata": {},
   "outputs": [],
   "source": [
    "ypredpaire=[]\n",
    "ypredimpaire=[]\n",
    "paireid=[]\n",
    "impaireid=[]\n",
    "Xpredpaire=[]\n",
    "Xpredimpaire=[]\n",
    "nbpredpaire=0\n",
    "nbpredimpaire=0\n",
    "for i in range(ypred.size):\n",
    "    if(ypred[i]==1 or ypred[i]==3 or ypred[i]==5 or ypred[i]==7 or ypred[i]==9 or ypred[i]==11 or ypred[i]==13):\n",
    "        #ypredpaire=np.hstack((ypredpaire,y_test[i]))\n",
    "        paireid=np.hstack((paireid,test_id[i]))\n",
    "        Xpredpaire=np.hstack((Xpredpaire,X_test[i]))\n",
    "        nbpredpaire=nbpredpaire+1\n",
    "        \n",
    "    else:\n",
    "        #ypredimpaire=np.hstack((ypredimpaire,y_test[i]))\n",
    "        impaireid=np.hstack((impaireid,test_id[i]))\n",
    "        Xpredimpaire=np.hstack((Xpredimpaire,X_test[i]))\n",
    "        nbpredimpaire=nbpredimpaire+1"
   ]
  },
  {
   "cell_type": "code",
   "execution_count": 7,
   "id": "1d366472",
   "metadata": {},
   "outputs": [],
   "source": [
    "from sklearn.ensemble import RandomForestClassifier, ExtraTreesRegressor, BaggingClassifier\n",
    "from sklearn.tree import DecisionTreeClassifier\n",
    "from sklearn import tree\n",
    "Xpaire2=Xpaire.reshape(nbpaire,21)\n",
    "dtree = DecisionTreeClassifier(criterion='entropy',splitter='best', max_depth=8)\n",
    "dtree.fit(Xpaire2, ypaire)\n",
    "predictions = dtree.predict(Xpredpaire.reshape(nbpredpaire,21))"
   ]
  },
  {
   "cell_type": "code",
   "execution_count": 8,
   "id": "c7c0cc31",
   "metadata": {},
   "outputs": [],
   "source": [
    "Ximpaire2=Ximpaire.reshape(nbimpaire,21)\n",
    "dtree = DecisionTreeClassifier(criterion='entropy',splitter='best', max_depth=8)\n",
    "dtree.fit(Ximpaire2, yimpaire)\n",
    "predictionsim = dtree.predict(Xpredimpaire.reshape(nbpredimpaire,21))"
   ]
  },
  {
   "cell_type": "code",
   "execution_count": 9,
   "id": "a9574344",
   "metadata": {},
   "outputs": [],
   "source": [
    "kpaire=0\n",
    "kimpaire=0\n",
    "yfinal=[]\n",
    "for i in range(1837079,1837079+predictions.size+predictionsim.size):\n",
    "    if(kpaire!=paireid.size):\n",
    "        if(paireid[kpaire]==i):   \n",
    "            yfinal=np.hstack((yfinal,predictions[kpaire]))\n",
    "            kpaire=kpaire+1\n",
    "    if(kimpaire!=impaireid.size):\n",
    "        if(impaireid[kimpaire]==i):\n",
    "            yfinal=np.hstack((yfinal,predictionsim[kimpaire]))\n",
    "            kimpaire=kimpaire+1"
   ]
  },
  {
   "cell_type": "code",
   "execution_count": 10,
   "id": "15bf4d3c",
   "metadata": {},
   "outputs": [
    {
     "name": "stdout",
     "output_type": "stream",
     "text": [
      "[[10.]\n",
      " [10.]\n",
      " [11.]\n",
      " ...\n",
      " [11.]\n",
      " [10.]\n",
      " [10.]]\n"
     ]
    }
   ],
   "source": [
    "yfinal=yfinal.reshape(-1,1)\n",
    "print(yfinal)"
   ]
  },
  {
   "cell_type": "code",
   "execution_count": 11,
   "id": "37a8b424",
   "metadata": {},
   "outputs": [
    {
     "name": "stdout",
     "output_type": "stream",
     "text": [
      "[[1837079]\n",
      " [1837080]\n",
      " [1837081]\n",
      " ...\n",
      " [3674156]\n",
      " [3674157]\n",
      " [3674158]]\n"
     ]
    }
   ],
   "source": [
    "test_id=test_id.reshape(-1,1)\n",
    "print(test_id)"
   ]
  },
  {
   "cell_type": "code",
   "execution_count": 16,
   "id": "db4b9a92",
   "metadata": {},
   "outputs": [],
   "source": [
    "def write_in_file(filename, ytest, start=1837079, finish=3674158):\n",
    "    with open(filename, 'w') as writefile:\n",
    "        count = start\n",
    "        writefile.write(\"id,distance\\n\")\n",
    "        while count <= finish:\n",
    "            writefile.write(str(count) + \",\" + str(int(ytest[count - start])) + \"\\n\")\n",
    "            count += 1"
   ]
  },
  {
   "cell_type": "code",
   "execution_count": 19,
   "id": "4fd20f75",
   "metadata": {},
   "outputs": [],
   "source": [
    "yrendu=np.hstack((test_id[1000001:1005000],yfinal))\n",
    "yrendu2=yrendu[:,1]"
   ]
  },
  {
   "cell_type": "code",
   "execution_count": 22,
   "id": "83f629d2",
   "metadata": {},
   "outputs": [
    {
     "name": "stdout",
     "output_type": "stream",
     "text": [
      "              precision    recall  f1-score   support\n",
      "\n",
      "           4       0.00      0.00      0.00         1\n",
      "           5       0.00      0.00      0.00         2\n",
      "           6       0.00      0.00      0.00        17\n",
      "           7       0.00      0.00      0.00        42\n",
      "           8       0.00      0.00      0.00       167\n",
      "           9       0.33      0.00      0.00       486\n",
      "          10       0.47      0.86      0.61      1261\n",
      "          11       0.71      0.94      0.81      1882\n",
      "          12       0.37      0.07      0.12      1031\n",
      "          13       0.00      0.00      0.00       108\n",
      "          14       0.00      0.00      0.00         2\n",
      "\n",
      "    accuracy                           0.59      4999\n",
      "   macro avg       0.17      0.17      0.14      4999\n",
      "weighted avg       0.50      0.59      0.49      4999\n",
      "\n"
     ]
    }
   ],
   "source": [
    "from sklearn.metrics import classification_report\n",
    "#ytosubmit=yrendu2.reshape((len(yrendu2)),1)\n",
    "#write_in_file(\"submit.csv\",ytosubmit)\n",
    "print(classification_report(y_test,yrendu2,zero_division=0))"
   ]
  },
  {
   "cell_type": "code",
   "execution_count": 25,
   "id": "98f4c189",
   "metadata": {},
   "outputs": [
    {
     "name": "stdout",
     "output_type": "stream",
     "text": [
      "[[   0    0    0    0    0    0    1    0    0    0    0]\n",
      " [   0    0    0    0    0    0    1    1    0    0    0]\n",
      " [   0    0    0    0    0    0   14    2    1    0    0]\n",
      " [   0    0    0    0    0    0    0   42    0    0    0]\n",
      " [   0    0    0    0    0    0  143   11   13    0    0]\n",
      " [   0    0    0    0    0    1   33  449    3    0    0]\n",
      " [   0    0    0    0    1    0 1089   64  107    0    0]\n",
      " [   0    0    0    0    0    1  106 1767    8    0    0]\n",
      " [   0    0    0    0    0    0  915   39   77    0    0]\n",
      " [   0    0    0    0    0    1    4  103    0    0    0]\n",
      " [   0    0    0    0    0    0    2    0    0    0    0]]\n"
     ]
    }
   ],
   "source": [
    "crfinal= confusion_matrix(y_test,yrendu2)\n",
    "print(crfinal)"
   ]
  },
  {
   "cell_type": "code",
   "execution_count": null,
   "id": "30347956",
   "metadata": {},
   "outputs": [],
   "source": []
  }
 ],
 "metadata": {
  "kernelspec": {
   "display_name": "Python 3 (ipykernel)",
   "language": "python",
   "name": "python3"
  },
  "language_info": {
   "codemirror_mode": {
    "name": "ipython",
    "version": 3
   },
   "file_extension": ".py",
   "mimetype": "text/x-python",
   "name": "python",
   "nbconvert_exporter": "python",
   "pygments_lexer": "ipython3",
   "version": "3.9.7"
  }
 },
 "nbformat": 4,
 "nbformat_minor": 5
}
